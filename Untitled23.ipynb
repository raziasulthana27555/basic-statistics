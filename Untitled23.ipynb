{
  "nbformat": 4,
  "nbformat_minor": 0,
  "metadata": {
    "colab": {
      "name": "Untitled23.ipynb",
      "provenance": [],
      "authorship_tag": "ABX9TyNvzW0vJXE6OXeCs4m6M13k",
      "include_colab_link": true
    },
    "kernelspec": {
      "name": "python3",
      "display_name": "Python 3"
    }
  },
  "cells": [
    {
      "cell_type": "markdown",
      "metadata": {
        "id": "view-in-github",
        "colab_type": "text"
      },
      "source": [
        "<a href=\"https://colab.research.google.com/github/raziasulthana27555/basic-statistics/blob/main/Untitled23.ipynb\" target=\"_parent\"><img src=\"https://colab.research.google.com/assets/colab-badge.svg\" alt=\"Open In Colab\"/></a>"
      ]
    },
    {
      "cell_type": "markdown",
      "metadata": {
        "id": "ZSowlXAFGdT4"
      },
      "source": [
        "**Experiment 4 : Basic statistics for machine learning.**\n",
        "\n",
        "\n",
        "**1)Central Tendency - Mean,Median,Mode.**"
      ]
    },
    {
      "cell_type": "code",
      "metadata": {
        "id": "AnCGRjELH9wx"
      },
      "source": [
        "import numpy as np\n",
        "import pandas as pd\n",
        "import seaborn as sns\n",
        "import matplotlib.pyplot as plt"
      ],
      "execution_count": 13,
      "outputs": []
    },
    {
      "cell_type": "markdown",
      "metadata": {
        "id": "yIRQfFtpI0Gm"
      },
      "source": [
        "**Import the data¶**"
      ]
    },
    {
      "cell_type": "code",
      "metadata": {
        "id": "Kh4Upc0DD849",
        "outputId": "bcf7047d-ee25-4477-f91b-99018407605c",
        "colab": {
          "base_uri": "https://localhost:8080/",
          "height": 212
        }
      },
      "source": [
        "df = pd.read_csv(\"students_placement_data.csv\")\n",
        "df.head()"
      ],
      "execution_count": 3,
      "outputs": [
        {
          "output_type": "execute_result",
          "data": {
            "text/html": [
              "<div>\n",
              "<style scoped>\n",
              "    .dataframe tbody tr th:only-of-type {\n",
              "        vertical-align: middle;\n",
              "    }\n",
              "\n",
              "    .dataframe tbody tr th {\n",
              "        vertical-align: top;\n",
              "    }\n",
              "\n",
              "    .dataframe thead th {\n",
              "        text-align: right;\n",
              "    }\n",
              "</style>\n",
              "<table border=\"1\" class=\"dataframe\">\n",
              "  <thead>\n",
              "    <tr style=\"text-align: right;\">\n",
              "      <th></th>\n",
              "      <th>Roll No</th>\n",
              "      <th>Gender</th>\n",
              "      <th>Section</th>\n",
              "      <th>SSC Percentage</th>\n",
              "      <th>inter_Diploma_percentage</th>\n",
              "      <th>B.Tech_percentage</th>\n",
              "      <th>Backlogs</th>\n",
              "      <th>registered_for_ Placement_Training</th>\n",
              "      <th>placement status</th>\n",
              "    </tr>\n",
              "  </thead>\n",
              "  <tbody>\n",
              "    <tr>\n",
              "      <th>0</th>\n",
              "      <td>1</td>\n",
              "      <td>M</td>\n",
              "      <td>A</td>\n",
              "      <td>87.3</td>\n",
              "      <td>65.3</td>\n",
              "      <td>40.00</td>\n",
              "      <td>18</td>\n",
              "      <td>NO</td>\n",
              "      <td>Not placed</td>\n",
              "    </tr>\n",
              "    <tr>\n",
              "      <th>1</th>\n",
              "      <td>2</td>\n",
              "      <td>F</td>\n",
              "      <td>A</td>\n",
              "      <td>89.0</td>\n",
              "      <td>92.4</td>\n",
              "      <td>71.45</td>\n",
              "      <td>0</td>\n",
              "      <td>yes</td>\n",
              "      <td>Placed</td>\n",
              "    </tr>\n",
              "    <tr>\n",
              "      <th>2</th>\n",
              "      <td>3</td>\n",
              "      <td>F</td>\n",
              "      <td>A</td>\n",
              "      <td>67.0</td>\n",
              "      <td>68.0</td>\n",
              "      <td>45.26</td>\n",
              "      <td>13</td>\n",
              "      <td>yes</td>\n",
              "      <td>Not placed</td>\n",
              "    </tr>\n",
              "    <tr>\n",
              "      <th>3</th>\n",
              "      <td>4</td>\n",
              "      <td>M</td>\n",
              "      <td>A</td>\n",
              "      <td>71.0</td>\n",
              "      <td>70.4</td>\n",
              "      <td>36.47</td>\n",
              "      <td>17</td>\n",
              "      <td>yes</td>\n",
              "      <td>Not placed</td>\n",
              "    </tr>\n",
              "    <tr>\n",
              "      <th>4</th>\n",
              "      <td>5</td>\n",
              "      <td>M</td>\n",
              "      <td>A</td>\n",
              "      <td>NaN</td>\n",
              "      <td>65.5</td>\n",
              "      <td>42.52</td>\n",
              "      <td>17</td>\n",
              "      <td>yes</td>\n",
              "      <td>Not placed</td>\n",
              "    </tr>\n",
              "  </tbody>\n",
              "</table>\n",
              "</div>"
            ],
            "text/plain": [
              "   Roll No Gender  ... registered_for_ Placement_Training  placement status\n",
              "0        1      M  ...                                 NO        Not placed\n",
              "1        2      F  ...                                yes            Placed\n",
              "2        3      F  ...                                yes        Not placed\n",
              "3        4      M  ...                                yes        Not placed\n",
              "4        5      M  ...                                yes        Not placed\n",
              "\n",
              "[5 rows x 9 columns]"
            ]
          },
          "metadata": {
            "tags": []
          },
          "execution_count": 3
        }
      ]
    },
    {
      "cell_type": "markdown",
      "metadata": {
        "id": "SiPv0cjrJm2C"
      },
      "source": [
        "**1.1) Calculate the mean & median of SSC Percentage, inter_Diploma_percentage and B.Tech_percentage**"
      ]
    },
    {
      "cell_type": "code",
      "metadata": {
        "id": "MgI7LVfzEEj5",
        "outputId": "3bc8f76d-de43-4dcb-9dcc-d0ab86105a7a",
        "colab": {
          "base_uri": "https://localhost:8080/",
          "height": 151
        }
      },
      "source": [
        "print(\"Mean of SSC score\",df[\"SSC Percentage\"].mean())\n",
        "print(\"Mean of inter_Diploma score\",df[\"inter_Diploma_percentage\"].mean())\n",
        "print(\"Mean of B.Tech score\",df[\"B.Tech_percentage\"].mean())\n",
        " \n",
        "print(\"\\n\")\n",
        " \n",
        "print(\"Median of SSC score\",df[\"SSC Percentage\"].median())\n",
        "print(\"Median of inter_Diploma score\",df[\"inter_Diploma_percentage\"].median())\n",
        "print(\"Median of B.Tech score\",df[\"B.Tech_percentage\"].median())"
      ],
      "execution_count": 4,
      "outputs": [
        {
          "output_type": "stream",
          "text": [
            "Mean of SSC score 80.47456896551722\n",
            "Mean of inter_Diploma score 80.77290598290598\n",
            "Mean of B.Tech score 62.9434188034188\n",
            "\n",
            "\n",
            "Median of SSC score 82.745\n",
            "Median of inter_Diploma score 83.6\n",
            "Median of B.Tech score 64.36\n"
          ],
          "name": "stdout"
        }
      ]
    },
    {
      "cell_type": "markdown",
      "metadata": {
        "id": "Y3WluXK6JsYt"
      },
      "source": [
        "**1.2) Apply mode on Gender. Are there more male or female?**"
      ]
    },
    {
      "cell_type": "code",
      "metadata": {
        "id": "mmsLhFoXEGPK",
        "outputId": "a6a64744-5f07-41f0-b8f4-683e6749c19f",
        "colab": {
          "base_uri": "https://localhost:8080/",
          "height": 50
        }
      },
      "source": [
        "df[\"Gender\"].mode()"
      ],
      "execution_count": 5,
      "outputs": [
        {
          "output_type": "execute_result",
          "data": {
            "text/plain": [
              "0    M\n",
              "dtype: object"
            ]
          },
          "metadata": {
            "tags": []
          },
          "execution_count": 5
        }
      ]
    },
    {
      "cell_type": "markdown",
      "metadata": {
        "id": "pm9eMMLMJ1NY"
      },
      "source": [
        "**2) Distribution of Data- Range, Interquartile range, Variance, Standard deviation, Correlation.**"
      ]
    },
    {
      "cell_type": "markdown",
      "metadata": {
        "id": "rvivbe9pJ9nj"
      },
      "source": [
        "**2.1) Range**\n",
        "\n",
        "Range defines the difference between the maximum and minimum value"
      ]
    },
    {
      "cell_type": "markdown",
      "metadata": {
        "id": "UwK3BGpXKQSr"
      },
      "source": [
        "**What is the range of SSC Percentage,inter_Diploma_percentage and B.Tech_percentage**"
      ]
    },
    {
      "cell_type": "code",
      "metadata": {
        "id": "tdyrQJJNEMry",
        "outputId": "685ccac6-c8c2-4cb1-9946-ceb98973b580",
        "colab": {
          "base_uri": "https://localhost:8080/",
          "height": 118
        }
      },
      "source": [
        "print(\"Range in SSC Score Range\",df[[\"SSC Percentage\"]].max()-df[[\"SSC Percentage\"]].min())\n",
        "print(\"Range in inter Diploma Score Range\",df[[\"inter_Diploma_percentage\"]].max()-df[[\"inter_Diploma_percentage\"]].min())\n",
        "print(\"Range in B.tech score Range\",df[[\"B.Tech_percentage\"]].max()-df[[\"B.Tech_percentage\"]].min())"
      ],
      "execution_count": 6,
      "outputs": [
        {
          "output_type": "stream",
          "text": [
            "Range in SSC Score Range SSC Percentage    45.86\n",
            "dtype: float64\n",
            "Range in inter Diploma Score Range inter_Diploma_percentage    44.7\n",
            "dtype: float64\n",
            "Range in B.tech score Range B.Tech_percentage    56.9\n",
            "dtype: float64\n"
          ],
          "name": "stdout"
        }
      ]
    },
    {
      "cell_type": "markdown",
      "metadata": {
        "id": "mZ9NR747KWm9"
      },
      "source": [
        "**2.2)Interquartile range**\n",
        "\n",
        "Interquartile is difference between 25th percentile element and 75th percentile element.This is considered important because,elements less than or greater than this range may have outliers."
      ]
    },
    {
      "cell_type": "markdown",
      "metadata": {
        "id": "JoOi0IOeKmtz"
      },
      "source": [
        "**Find the interquartile range of SSC percentage.**"
      ]
    },
    {
      "cell_type": "code",
      "metadata": {
        "id": "b8ojuOZoEOpk",
        "outputId": "af45034b-dea7-43bf-da98-b76929dd4d8d",
        "colab": {
          "base_uri": "https://localhost:8080/",
          "height": 67
        }
      },
      "source": [
        "Q1 = df['SSC Percentage'].quantile(0.25)\n",
        "print('Quartile 1 is' ,Q1)\n",
        " \n",
        "Q3 = df['SSC Percentage'].quantile(0.75)\n",
        "print('Quartile 3 is' ,Q3)\n",
        " \n",
        "IQR = Q3 - Q1\n",
        "print(\"The interquartile range is\",IQR)"
      ],
      "execution_count": 7,
      "outputs": [
        {
          "output_type": "stream",
          "text": [
            "Quartile 1 is 76.6225\n",
            "Quartile 3 is 87.025\n",
            "The interquartile range is 10.402500000000003\n"
          ],
          "name": "stdout"
        }
      ]
    },
    {
      "cell_type": "markdown",
      "metadata": {
        "id": "92mplDtRKwbo"
      },
      "source": [
        "**2.3) Standard deviation**\n",
        "\n",
        "**Find the standard deviation of SSC Percentage,inter_Diploma_percentage and B.Tech_Percentage**"
      ]
    },
    {
      "cell_type": "code",
      "metadata": {
        "id": "7rPENTyPEbPm",
        "outputId": "869b140f-8421-470b-c4d8-df4452c272cc",
        "colab": {
          "base_uri": "https://localhost:8080/",
          "height": 67
        }
      },
      "source": [
        "print(\"standard deviation of SSC Score is :\",df[\"SSC Percentage\"].std())\n",
        "print(\"standard deviation of inter Diploma Score is :\",df[\"inter_Diploma_percentage\"].std())\n",
        "print(\"standard deviation of B.Tech score is :\",df[\"B.Tech_percentage\"].std())"
      ],
      "execution_count": 8,
      "outputs": [
        {
          "output_type": "stream",
          "text": [
            "standard deviation of SSC Score is : 8.836078944698352\n",
            "standard deviation of inter Diploma Score is : 11.26724785566931\n",
            "standard deviation of B.Tech score is : 12.064305584885746\n"
          ],
          "name": "stdout"
        }
      ]
    },
    {
      "cell_type": "markdown",
      "metadata": {
        "id": "IT1U1zZcK-uk"
      },
      "source": [
        "**2.4) Variance**\n",
        "\n",
        "Variance is simple square of standard deviation.\n",
        "\n",
        "**Find the Variance of SSC Percentage,inter_Diploma_percentage and B.Tech_percentage**"
      ]
    },
    {
      "cell_type": "code",
      "metadata": {
        "id": "8ItOnlYrEdVZ",
        "outputId": "ae3fd602-2523-4d6f-e1f3-1319c4f48831",
        "colab": {
          "base_uri": "https://localhost:8080/",
          "height": 67
        }
      },
      "source": [
        "print(\"Variance of SSC Score is :\",df[\"SSC Percentage\"].var())\n",
        "print(\"Variance of inter Diploma Score is :\",df[\"inter_Diploma_percentage\"].var())\n",
        "print(\"Variance of B.Tech score is :\",df[\"B.Tech_percentage\"].var())"
      ],
      "execution_count": 9,
      "outputs": [
        {
          "output_type": "stream",
          "text": [
            "Variance of SSC Score is : 78.07629111694153\n",
            "Variance of inter Diploma Score is : 126.95087424108468\n",
            "Variance of B.Tech score is : 145.54746924550543\n"
          ],
          "name": "stdout"
        }
      ]
    },
    {
      "cell_type": "markdown",
      "metadata": {
        "id": "naN0vpkoLMs3"
      },
      "source": [
        "**2.5) Correlation**\n",
        "\n",
        "**Find the correlation between SSC Percentage, inter_Diploma_percentage and B.Tech Percentages**"
      ]
    },
    {
      "cell_type": "code",
      "metadata": {
        "id": "H0EKty3yEiiX",
        "outputId": "169ee902-f5fa-4286-fba0-f98470a2739d",
        "colab": {
          "base_uri": "https://localhost:8080/",
          "height": 136
        }
      },
      "source": [
        "df[[\"SSC Percentage\",\"inter_Diploma_percentage\",\"B.Tech_percentage\"]].corr()\n"
      ],
      "execution_count": 10,
      "outputs": [
        {
          "output_type": "execute_result",
          "data": {
            "text/html": [
              "<div>\n",
              "<style scoped>\n",
              "    .dataframe tbody tr th:only-of-type {\n",
              "        vertical-align: middle;\n",
              "    }\n",
              "\n",
              "    .dataframe tbody tr th {\n",
              "        vertical-align: top;\n",
              "    }\n",
              "\n",
              "    .dataframe thead th {\n",
              "        text-align: right;\n",
              "    }\n",
              "</style>\n",
              "<table border=\"1\" class=\"dataframe\">\n",
              "  <thead>\n",
              "    <tr style=\"text-align: right;\">\n",
              "      <th></th>\n",
              "      <th>SSC Percentage</th>\n",
              "      <th>inter_Diploma_percentage</th>\n",
              "      <th>B.Tech_percentage</th>\n",
              "    </tr>\n",
              "  </thead>\n",
              "  <tbody>\n",
              "    <tr>\n",
              "      <th>SSC Percentage</th>\n",
              "      <td>1.000000</td>\n",
              "      <td>0.625586</td>\n",
              "      <td>0.492849</td>\n",
              "    </tr>\n",
              "    <tr>\n",
              "      <th>inter_Diploma_percentage</th>\n",
              "      <td>0.625586</td>\n",
              "      <td>1.000000</td>\n",
              "      <td>0.729697</td>\n",
              "    </tr>\n",
              "    <tr>\n",
              "      <th>B.Tech_percentage</th>\n",
              "      <td>0.492849</td>\n",
              "      <td>0.729697</td>\n",
              "      <td>1.000000</td>\n",
              "    </tr>\n",
              "  </tbody>\n",
              "</table>\n",
              "</div>"
            ],
            "text/plain": [
              "                          SSC Percentage  ...  B.Tech_percentage\n",
              "SSC Percentage                  1.000000  ...           0.492849\n",
              "inter_Diploma_percentage        0.625586  ...           0.729697\n",
              "B.Tech_percentage               0.492849  ...           1.000000\n",
              "\n",
              "[3 rows x 3 columns]"
            ]
          },
          "metadata": {
            "tags": []
          },
          "execution_count": 10
        }
      ]
    },
    {
      "cell_type": "markdown",
      "metadata": {
        "id": "DKOsUyJkLXJT"
      },
      "source": [
        "**3) Draw a box plot to demonstrate Range,Interquartile range.**\n",
        "\n",
        "**Use a box plot to explain the performance of placed vs unplaced students in B.Tech.**"
      ]
    },
    {
      "cell_type": "code",
      "metadata": {
        "id": "xDQp1d0PEpRf",
        "outputId": "74a21dcb-fd6e-4458-c456-bb3fd97d90fd",
        "colab": {
          "base_uri": "https://localhost:8080/",
          "height": 297
        }
      },
      "source": [
        "sns.boxplot(x=\"placement status\",y=\"B.Tech_percentage\",data=df)"
      ],
      "execution_count": 11,
      "outputs": [
        {
          "output_type": "execute_result",
          "data": {
            "text/plain": [
              "<matplotlib.axes._subplots.AxesSubplot at 0x7f950756fc18>"
            ]
          },
          "metadata": {
            "tags": []
          },
          "execution_count": 11
        },
        {
          "output_type": "display_data",
          "data": {
            "image/png": "[encoded data removed]",
            "text/plain": [
              "<Figure size 432x288 with 1 Axes>"
            ]
          },
          "metadata": {
            "tags": [],
            "needs_background": "light"
          }
        }
      ]
    },
    {
      "cell_type": "markdown",
      "metadata": {
        "id": "Xauf6VGqLfaB"
      },
      "source": [
        "Here we observe that placed students are performing better than unplaced students The range for unplaced students is approximately 32 to 75.The range for placed students is approximately 65 to 88. The interquartile range for unplaced students is approximately 55 to 65.The interquartile range for placed students is approximately 72 to 76."
      ]
    },
    {
      "cell_type": "markdown",
      "metadata": {
        "id": "13FKcB11LklT"
      },
      "source": [
        "**4)Show the correlation between 2 variables using a scatter plot.**\n",
        "\n",
        "**Find the correlation between SSC percentage and inter_Diploma_percentage by visual inspection using a scatter plot. What type of correlation do they have between them?**"
      ]
    },
    {
      "cell_type": "code",
      "metadata": {
        "id": "OYnjcLYdEuUZ",
        "outputId": "4c5c7e4d-488b-4401-814a-c7ef40a0b172",
        "colab": {
          "base_uri": "https://localhost:8080/",
          "height": 282
        }
      },
      "source": [
        "plt.scatter(df[\"SSC Percentage\"],df[\"inter_Diploma_percentage\"])"
      ],
      "execution_count": 14,
      "outputs": [
        {
          "output_type": "execute_result",
          "data": {
            "text/plain": [
              "<matplotlib.collections.PathCollection at 0x7f9505539fd0>"
            ]
          },
          "metadata": {
            "tags": []
          },
          "execution_count": 14
        },
        {
          "output_type": "display_data",
          "data": {
            "image/png": "[encoded data removed]",
            "text/plain": [
              "<Figure size 432x288 with 1 Axes>"
            ]
          },
          "metadata": {
            "tags": [],
            "needs_background": "light"
          }
        }
      ]
    },
    {
      "cell_type": "markdown",
      "metadata": {
        "id": "kgszigQ5LuU0"
      },
      "source": [
        "**5) Draw a histogram to show how data is distributed.**\n",
        "\n",
        "**5.1) Draw a histogram to show the distribution of SSC percentage. Most of the people got score in which range?**"
      ]
    },
    {
      "cell_type": "code",
      "metadata": {
        "id": "lLRBcy1jE29Y",
        "outputId": "e310d2dc-49b3-4943-fcc3-5e2b925c2ebd",
        "colab": {
          "base_uri": "https://localhost:8080/",
          "height": 313
        }
      },
      "source": [
        "bins=np.linspace(0,120,11)\n",
        "print(bins)\n",
        "plt.hist(df[\"SSC Percentage\"],bins,width=10)\n",
        "plt.xlabel(\"SSC Percentage\")"
      ],
      "execution_count": 15,
      "outputs": [
        {
          "output_type": "stream",
          "text": [
            "[  0.  12.  24.  36.  48.  60.  72.  84.  96. 108. 120.]\n"
          ],
          "name": "stdout"
        },
        {
          "output_type": "execute_result",
          "data": {
            "text/plain": [
              "Text(0.5, 0, 'SSC Percentage')"
            ]
          },
          "metadata": {
            "tags": []
          },
          "execution_count": 15
        },
        {
          "output_type": "display_data",
          "data": {
            "image/png": "[encoded data removed]",
            "text/plain": [
              "<Figure size 432x288 with 1 Axes>"
            ]
          },
          "metadata": {
            "tags": [],
            "needs_background": "light"
          }
        }
      ]
    },
    {
      "cell_type": "markdown",
      "metadata": {
        "id": "Py2NovetL-ry"
      },
      "source": [
        "Most of the people got SSC Percentage in range of 80-90"
      ]
    },
    {
      "cell_type": "markdown",
      "metadata": {
        "id": "RQm4_FUTL7F_"
      },
      "source": [
        "**5.2) Draw a histogram to show the distribution of B.Tech percentage. Most of the people got a score in which range**"
      ]
    },
    {
      "cell_type": "code",
      "metadata": {
        "id": "0Ey9ao9RE9C1",
        "outputId": "c3b9c410-799a-42fc-b695-1fe758af7031",
        "colab": {
          "base_uri": "https://localhost:8080/",
          "height": 314
        }
      },
      "source": [
        "bins=np.linspace(0,100,11)\n",
        "print(bins)\n",
        "plt.hist(df[\"B.Tech_percentage\"],bins,width=8)\n",
        "plt.xlabel(\"B.Tech_percentage\")"
      ],
      "execution_count": 16,
      "outputs": [
        {
          "output_type": "stream",
          "text": [
            "[  0.  10.  20.  30.  40.  50.  60.  70.  80.  90. 100.]\n"
          ],
          "name": "stdout"
        },
        {
          "output_type": "execute_result",
          "data": {
            "text/plain": [
              "Text(0.5, 0, 'B.Tech_percentage')"
            ]
          },
          "metadata": {
            "tags": []
          },
          "execution_count": 16
        },
        {
          "output_type": "display_data",
          "data": {
            "image/png": "[encoded data removed]",
            "text/plain": [
              "<Figure size 432x288 with 1 Axes>"
            ]
          },
          "metadata": {
            "tags": [],
            "needs_background": "light"
          }
        }
      ]
    },
    {
      "cell_type": "markdown",
      "metadata": {
        "id": "8U3PDsaWMCZV"
      },
      "source": [
        "Most of the people got B.Tech_percentage in range of 70-80\n",
        "\n",
        "**5.3) Draw a histogram to show the distribution of Intermediate percentage. Most of the people got score in which range?**"
      ]
    },
    {
      "cell_type": "code",
      "metadata": {
        "id": "rkj0FqogFFNF",
        "outputId": "f97e1030-115e-48f2-aed8-1102c5c186db",
        "colab": {
          "base_uri": "https://localhost:8080/",
          "height": 314
        }
      },
      "source": [
        "bins=np.linspace(0,100,11)\n",
        "print(bins)\n",
        "plt.hist(df[\"inter_Diploma_percentage\"],bins,width=8)\n",
        "plt.xlabel(\"inter_Diploma_percentage\")"
      ],
      "execution_count": 17,
      "outputs": [
        {
          "output_type": "stream",
          "text": [
            "[  0.  10.  20.  30.  40.  50.  60.  70.  80.  90. 100.]\n"
          ],
          "name": "stdout"
        },
        {
          "output_type": "execute_result",
          "data": {
            "text/plain": [
              "Text(0.5, 0, 'inter_Diploma_percentage')"
            ]
          },
          "metadata": {
            "tags": []
          },
          "execution_count": 17
        },
        {
          "output_type": "display_data",
          "data": {
            "image/png": "[encoded data removed]",
            "text/plain": [
              "<Figure size 432x288 with 1 Axes>"
            ]
          },
          "metadata": {
            "tags": [],
            "needs_background": "light"
          }
        }
      ]
    },
    {
      "cell_type": "markdown",
      "metadata": {
        "id": "QAyvb6bFMM0x"
      },
      "source": [
        "Most of the people got intermediate percentage in range of 80-90\n",
        "\n",
        "**6) For the given data, show which attributes as a) continuous b) Ordered c) Binary**"
      ]
    },
    {
      "cell_type": "code",
      "metadata": {
        "id": "mDNsAnGLFM64",
        "outputId": "50d676de-483f-4266-db55-ab07a506d348",
        "colab": {
          "base_uri": "https://localhost:8080/",
          "height": 185
        }
      },
      "source": [
        "df.nunique()"
      ],
      "execution_count": 18,
      "outputs": [
        {
          "output_type": "execute_result",
          "data": {
            "text/plain": [
              "Roll No                               117\n",
              "Gender                                  2\n",
              "Section                                 2\n",
              "SSC Percentage                         88\n",
              "inter_Diploma_percentage               99\n",
              "B.Tech_percentage                     106\n",
              "Backlogs                               22\n",
              "registered_for_ Placement_Training      2\n",
              "placement status                        2\n",
              "dtype: int64"
            ]
          },
          "metadata": {
            "tags": []
          },
          "execution_count": 18
        }
      ]
    },
    {
      "cell_type": "markdown",
      "metadata": {
        "id": "Cd9oiupDMRf4"
      },
      "source": [
        "From the above Data,it is clear that Gender,Section,registered_for_Placement_Training,Placement status are binary attributes because they take only 2."
      ]
    },
    {
      "cell_type": "code",
      "metadata": {
        "id": "qxlI__nCFZEu",
        "outputId": "5c13171c-e3aa-42b7-cebb-3eb2cde45b16",
        "colab": {
          "base_uri": "https://localhost:8080/",
          "height": 185
        }
      },
      "source": [
        "df.dtypes"
      ],
      "execution_count": 19,
      "outputs": [
        {
          "output_type": "execute_result",
          "data": {
            "text/plain": [
              "Roll No                                 int64\n",
              "Gender                                 object\n",
              "Section                                object\n",
              "SSC Percentage                        float64\n",
              "inter_Diploma_percentage              float64\n",
              "B.Tech_percentage                     float64\n",
              "Backlogs                                int64\n",
              "registered_for_ Placement_Training     object\n",
              "placement status                       object\n",
              "dtype: object"
            ]
          },
          "metadata": {
            "tags": []
          },
          "execution_count": 19
        }
      ]
    },
    {
      "cell_type": "markdown",
      "metadata": {
        "id": "a84gfs4sMUPI"
      },
      "source": [
        "SSCPercentage,inter_Diploma_percentage and B.Tech_percentage are continuous and ordinal attributes. Backlogs can be ordianal.It cannot take float value and there will be a limiton number of backlogs."
      ]
    }
  ]
}